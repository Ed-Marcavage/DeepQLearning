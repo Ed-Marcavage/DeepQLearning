{
  "cells": [
    {
      "cell_type": "code",
      "execution_count": null,
      "metadata": {
        "id": "PoPKQjga6obN",
        "colab": {
          "base_uri": "https://localhost:8080/"
        },
        "outputId": "08cd8c95-a438-4eb6-a6b8-21b67a78939a"
      },
      "outputs": [
        {
          "output_type": "stream",
          "name": "stdout",
          "text": [
            "  Installing build dependencies ... \u001b[?25l\u001b[?25hdone\n",
            "  Getting requirements to build wheel ... \u001b[?25l\u001b[?25hdone\n",
            "  Preparing metadata (pyproject.toml) ... \u001b[?25l\u001b[?25hdone\n",
            "  Building wheel for unsloth (pyproject.toml) ... \u001b[?25l\u001b[?25hdone\n",
            "\u001b[31mERROR: pip's dependency resolver does not currently take into account all the packages that are installed. This behaviour is the source of the following dependency conflicts.\n",
            "grpcio-status 1.71.0 requires protobuf<6.0dev,>=5.26.1, but you have protobuf 3.20.3 which is incompatible.\n",
            "gcsfs 2025.3.2 requires fsspec==2025.3.2, but you have fsspec 2024.12.0 which is incompatible.\n",
            "tensorflow-metadata 1.16.1 requires protobuf<6.0.0dev,>=4.25.2; python_version >= \"3.11\", but you have protobuf 3.20.3 which is incompatible.\u001b[0m\u001b[31m\n",
            "\u001b[0m"
          ]
        },
        {
          "output_type": "stream",
          "name": "stderr",
          "text": [
            "<ipython-input-1-bc44c3528ba6>:10: UserWarning: WARNING: Unsloth should be imported before trl, transformers, peft to ensure all optimizations are applied. Your code may run slower or encounter memory issues without these optimizations.\n",
            "\n",
            "Please restructure your imports with 'import unsloth' at the top of your file.\n",
            "  from unsloth.chat_templates import get_chat_template\n"
          ]
        },
        {
          "output_type": "stream",
          "name": "stdout",
          "text": [
            "🦥 Unsloth: Will patch your computer to enable 2x faster free finetuning.\n",
            "🦥 Unsloth Zoo will now patch everything to make training faster!\n"
          ]
        }
      ],
      "source": [
        "!pip install -qqq \"unsloth[colab-new] @ git+https://github.com/unslothai/unsloth.git\" --progress-bar off\n",
        "from torch import __version__; from packaging.version import Version as V\n",
        "xformers = \"xformers==0.0.27\" if V(__version__) < V(\"2.4.0\") else \"xformers\"\n",
        "!pip install -qqq --no-deps {xformers} trl peft accelerate bitsandbytes triton --progress-bar off\n",
        "\n",
        "import torch\n",
        "from trl import SFTTrainer\n",
        "from datasets import load_dataset\n",
        "from transformers import TrainingArguments, TextStreamer\n",
        "from unsloth.chat_templates import get_chat_template\n",
        "from unsloth import FastLanguageModel, is_bfloat16_supported"
      ]
    },
    {
      "cell_type": "code",
      "execution_count": null,
      "metadata": {
        "id": "zGX9wG7Lhc-z",
        "colab": {
          "base_uri": "https://localhost:8080/"
        },
        "outputId": "056664c5-743c-4ef1-cf41-06993ac0d6e4"
      },
      "outputs": [
        {
          "output_type": "stream",
          "name": "stdout",
          "text": [
            "==((====))==  Unsloth 2025.3.19: Fast Llama patching. Transformers: 4.50.3.\n",
            "   \\\\   /|    Tesla T4. Num GPUs = 1. Max memory: 14.741 GB. Platform: Linux.\n",
            "O^O/ \\_/ \\    Torch: 2.6.0+cu124. CUDA: 7.5. CUDA Toolkit: 12.4. Triton: 3.2.0\n",
            "\\        /    Bfloat16 = FALSE. FA [Xformers = 0.0.29.post3. FA2 = False]\n",
            " \"-____-\"     Free license: http://github.com/unslothai/unsloth\n",
            "Unsloth: Fast downloading is enabled - ignore downloading bars which are red colored!\n"
          ]
        }
      ],
      "source": [
        "# Load model\n",
        "max_seq_length = 2048  # Maximum sequence length the model can handle (2048 tokens)\n",
        "model, tokenizer = FastLanguageModel.from_pretrained(\n",
        "   model_name=\"unsloth/Meta-Llama-3.1-8B-bnb-4bit\",  # Pre-quantized 8B parameter Llama 3.1 model\n",
        "   max_seq_length=max_seq_length,  # Set the model context length to 2048 tokens\n",
        "   load_in_4bit=True,  # Enable 4-bit quantization for reduced memory usage (75% less than 16-bit)\n",
        "   dtype=None,  # Let the library automatically determine appropriate data type\n",
        ")"
      ]
    },
    {
      "cell_type": "code",
      "source": [
        "# Apply Parameter-Efficient Fine-Tuning (PEFT) using LoRA\n",
        "model = FastLanguageModel.get_peft_model(\n",
        "   model,  # The base model to apply PEFT to\n",
        "   r=16,  # Rank of the low-rank matrices - higher values can capture more complex adaptations\n",
        "   lora_alpha=16,  # Scaling factor for LoRA updates, affects how much influence LoRA has on original weights\n",
        "   lora_dropout=0,  # No dropout applied to LoRA layers (higher values help prevent overfitting)\n",
        "   target_modules=[\n",
        "       \"q_proj\",    # Query projection in attention mechanism\n",
        "       \"k_proj\",    # Key projection in attention mechanism\n",
        "       \"v_proj\",    # Value projection in attention mechanism\n",
        "       \"up_proj\",   # Upward projection in feed-forward network\n",
        "       \"down_proj\", # Downward projection in feed-forward network\n",
        "       \"o_proj\",    # Output projection in attention mechanism\n",
        "       \"gate_proj\"  # Gate projection for SwiGLU activation\n",
        "   ],  # Specific attention and feed-forward components to fine-tune\n",
        "   use_rslora=True,  # Enables Rank-Stabilized LoRA, which normalizes weights to prevent rank collapse\n",
        "   use_gradient_checkpointing=\"unsloth\"  # Memory optimization technique that trades computation for memory\n",
        "                                        # by recomputing some activations during backward pass instead of storing them\n",
        ")"
      ],
      "metadata": {
        "id": "GgPQ3OBwcsVE"
      },
      "execution_count": null,
      "outputs": []
    },
    {
      "cell_type": "code",
      "execution_count": null,
      "metadata": {
        "id": "sqGnvaT8is-R",
        "colab": {
          "base_uri": "https://localhost:8080/"
        },
        "outputId": "6fd80b4a-889f-47c3-d8a8-e4bf16ac33fb"
      },
      "outputs": [
        {
          "output_type": "stream",
          "name": "stderr",
          "text": [
            "Unsloth: Will map <|im_end|> to EOS = <|end_of_text|>.\n"
          ]
        }
      ],
      "source": [
        "tokenizer = get_chat_template(\n",
        "   tokenizer,                        # The tokenizer object from the previously loaded model\n",
        "   chat_template=\"chatml\",           # Using the ChatML format for conversations (used by models like Llama 3)\n",
        "   mapping={                         # Maps standard role names to model-specific format:\n",
        "       \"role\": \"from\",              #   - Maps the standard \"role\" field to ChatML's \"from\" field\n",
        "       \"content\": \"value\",          #   - Maps the standard \"content\" field to ChatML's \"value\" field\n",
        "       \"user\": \"human\",             #   - Maps the user role to \"human\" in the ChatML format\n",
        "       \"assistant\": \"gpt\",          #   - Maps the assistant role to \"gpt\" in the ChatML format\n",
        "   }\n",
        ")"
      ]
    },
    {
      "cell_type": "code",
      "source": [
        "dataset = load_dataset(\n",
        "   \"mlabonne/FineTome-100k\",    # The dataset identifier on Hugging Face Hub\n",
        "   split=\"train[:10000]\"          # Load only the first 200 examples from the training split\n",
        ")"
      ],
      "metadata": {
        "id": "FOjQKGRCgVt-"
      },
      "execution_count": null,
      "outputs": []
    },
    {
      "cell_type": "code",
      "source": [
        "def apply_template(examples):\n",
        "   messages = examples[\"conversations\"]  # Extract the conversations field from the dataset examples\n",
        "   text = [tokenizer.apply_chat_template(message, tokenize=False, add_generation_prompt=False) for message in messages]\n",
        "   # Convert each conversation to the chat template format without tokenizing or adding generation prompts\n",
        "   return {\"text\": text}  # Return the formatted text in a dictionary\n",
        "\n",
        "dataset = dataset.map(apply_template, batched=True)\n",
        "# Apply the formatting function to the entire dataset in batches for efficiency"
      ],
      "metadata": {
        "colab": {
          "base_uri": "https://localhost:8080/",
          "height": 49,
          "referenced_widgets": [
            "cd770591b219446090652270d3e7f16c",
            "aba47f795f8b456295439f80068c4806",
            "97d0ebf693554d44ab95a0c77687bace",
            "204ae0902ad04d0d8431773cfa222eaf",
            "b54ae7578b534018b68d53df93c1412f",
            "85874d030af044778666b236a9fd3b7d",
            "5ddd15a1647c4dd496c471b892d18750",
            "0f1cb664136d4d94a84cbc045a827247",
            "dd355a34018a4963a133ee1ea638a5da",
            "b80d5c21f7f94905814499a57eec9ff7",
            "73dff18a1743491eae4cfcf12458616e"
          ]
        },
        "id": "hDx2qL2NhBF0",
        "outputId": "30668b8d-bd10-42f4-e1b6-f153958bf751"
      },
      "execution_count": null,
      "outputs": [
        {
          "output_type": "display_data",
          "data": {
            "text/plain": [
              "Map:   0%|          | 0/10000 [00:00<?, ? examples/s]"
            ],
            "application/vnd.jupyter.widget-view+json": {
              "version_major": 2,
              "version_minor": 0,
              "model_id": "cd770591b219446090652270d3e7f16c"
            }
          },
          "metadata": {}
        }
      ]
    },
    {
      "cell_type": "code",
      "execution_count": null,
      "metadata": {
        "id": "gcPAQihcjcfl",
        "colab": {
          "base_uri": "https://localhost:8080/",
          "height": 66,
          "referenced_widgets": [
            "b72724f7f236496795ed9ddc2492bb48",
            "7dcb3e94b7c6408d982903007ab41559",
            "7f1c521d96e74beda10cbe2be570d73e",
            "4d4d7f42c5a347b79a347b8829712f5b",
            "52fe8f888e7a49899b787d6adfe2c5e4",
            "a888405dc255493fbb65a4d67eea48b2",
            "93e79fbaaa7746b69f9e734c586d1290",
            "55f64de258a04358a2d9eb39210283a7",
            "a1a61aad1cb048ae8e037e299e02c301",
            "5d5fcf8c37f24d629ca663c0e7e81b00",
            "21293f96f95341968c2badbf3bf22bee"
          ]
        },
        "outputId": "fdf35103-7c7a-4458-83e7-5449250244c4"
      },
      "outputs": [
        {
          "output_type": "display_data",
          "data": {
            "text/plain": [
              "Unsloth: Tokenizing [\"text\"] (num_proc=2):   0%|          | 0/10000 [00:00<?, ? examples/s]"
            ],
            "application/vnd.jupyter.widget-view+json": {
              "version_major": 2,
              "version_minor": 0,
              "model_id": "b72724f7f236496795ed9ddc2492bb48"
            }
          },
          "metadata": {}
        },
        {
          "output_type": "stream",
          "name": "stdout",
          "text": [
            "Unsloth: Hugging Face's packing is currently buggy - we're disabling it for now!\n"
          ]
        }
      ],
      "source": [
        "from trl import SFTTrainer, SFTConfig\n",
        "from transformers import DataCollatorForSeq2Seq\n",
        "from unsloth import is_bfloat16_supported\n",
        "\n",
        "trainer = SFTTrainer(\n",
        "    model=model,                              # The model to be fine-tuned\n",
        "    tokenizer=tokenizer,                      # Keep tokenizer here as it's paired with DataCollator\n",
        "    train_dataset=dataset,                    # The dataset to use for training\n",
        "    data_collator=DataCollatorForSeq2Seq(tokenizer=tokenizer),  # Handle text processing\n",
        "    args=SFTConfig(\n",
        "        learning_rate=3e-4,                   # Learning rate for optimization (0.0003)\n",
        "        lr_scheduler_type=\"linear\",           # Linear learning rate decay schedule\n",
        "        per_device_train_batch_size=4,        # Number of samples per batch on each GPU\n",
        "        gradient_accumulation_steps=4,        # Accumulate gradients over multiple steps\n",
        "        num_train_epochs=1,                   # Train for 1 complete pass through the dataset\n",
        "        fp16=not is_bfloat16_supported(),     # Use FP16 precision if BF16 is not supported\n",
        "        bf16=is_bfloat16_supported(),         # Use BF16 precision if supported by hardware\n",
        "        logging_steps=1,                      # Log metrics after every step\n",
        "        optim=\"adamw_8bit\",                   # Use 8-bit AdamW optimizer for memory efficiency\n",
        "        weight_decay=0.01,                    # L2 regularization to prevent overfitting\n",
        "        warmup_steps=10,                      # Gradually increase learning rate for first 10 steps\n",
        "        output_dir=\"output\",                  # Directory to save model checkpoints\n",
        "        seed=0,                               # Random seed for reproducibility\n",
        "        max_seq_length=max_seq_length,        # Maximum sequence length (moved into SFTConfig)\n",
        "        dataset_num_proc=2,                   # Number of processors (moved into SFTConfig)\n",
        "        packing=True,                         # Packing parameter (moved into SFTConfig)\n",
        "    ),\n",
        ")"
      ]
    },
    {
      "cell_type": "code",
      "source": [
        "trainer.train()"
      ],
      "metadata": {
        "colab": {
          "base_uri": "https://localhost:8080/",
          "height": 319
        },
        "id": "vFFVSHGtkXJe",
        "outputId": "16931c13-3adc-437d-90e3-283fc842628d"
      },
      "execution_count": null,
      "outputs": [
        {
          "output_type": "stream",
          "name": "stderr",
          "text": [
            "==((====))==  Unsloth - 2x faster free finetuning | Num GPUs used = 1\n",
            "   \\\\   /|    Num examples = 10,000 | Num Epochs = 1 | Total steps = 625\n",
            "O^O/ \\_/ \\    Batch size per device = 4 | Gradient accumulation steps = 4\n",
            "\\        /    Data Parallel GPUs = 1 | Total batch size (4 x 4 x 1) = 16\n",
            " \"-____-\"     Trainable parameters = 41,943,040/8,000,000,000 (0.52% trained)\n"
          ]
        },
        {
          "output_type": "display_data",
          "data": {
            "text/plain": [
              "<IPython.core.display.HTML object>"
            ],
            "text/html": [
              "\n",
              "    <div>\n",
              "      \n",
              "      <progress value='7' max='625' style='width:300px; height:20px; vertical-align: middle;'></progress>\n",
              "      [  7/625 03:39 < 7:32:51, 0.02 it/s, Epoch 0.01/1]\n",
              "    </div>\n",
              "    <table border=\"1\" class=\"dataframe\">\n",
              "  <thead>\n",
              " <tr style=\"text-align: left;\">\n",
              "      <th>Step</th>\n",
              "      <th>Training Loss</th>\n",
              "    </tr>\n",
              "  </thead>\n",
              "  <tbody>\n",
              "    <tr>\n",
              "      <td>1</td>\n",
              "      <td>0.908800</td>\n",
              "    </tr>\n",
              "    <tr>\n",
              "      <td>2</td>\n",
              "      <td>0.791800</td>\n",
              "    </tr>\n",
              "    <tr>\n",
              "      <td>3</td>\n",
              "      <td>0.891700</td>\n",
              "    </tr>\n",
              "    <tr>\n",
              "      <td>4</td>\n",
              "      <td>0.679500</td>\n",
              "    </tr>\n",
              "    <tr>\n",
              "      <td>5</td>\n",
              "      <td>0.769000</td>\n",
              "    </tr>\n",
              "  </tbody>\n",
              "</table><p>"
            ]
          },
          "metadata": {}
        }
      ]
    },
    {
      "cell_type": "code",
      "source": [
        "# Load model for inference\n",
        "model = FastLanguageModel.for_inference(model)  # Prepare the fine-tuned model for inference\n",
        "\n",
        "messages = [\n",
        "   {\"from\": \"human\", \"value\": \"Is 9.11 larger than 9.9?\"},  # Message in ChatML format\n",
        "]\n",
        "\n",
        "inputs = tokenizer.apply_chat_template(\n",
        "   messages,                      # The conversation messages to format\n",
        "   tokenize=True,                 # Convert the text to token IDs\n",
        "   add_generation_prompt=True,    # Add a prompt to indicate where model generation should begin\n",
        "   return_tensors=\"pt\",           # Return PyTorch tensors\n",
        ").to(\"cuda\")                       # Move tensors to GPU for faster inference"
      ],
      "metadata": {
        "id": "6yJpWspYm-qG"
      },
      "execution_count": null,
      "outputs": []
    },
    {
      "cell_type": "markdown",
      "source": [
        "## 4. Inference\n",
        "\n",
        "We test the trained model with a toy example to check that there's no obvious error."
      ],
      "metadata": {
        "id": "CI_U9FHZ3ZLO"
      }
    },
    {
      "cell_type": "code",
      "execution_count": null,
      "metadata": {
        "id": "5JXdjsLqkvZY",
        "colab": {
          "base_uri": "https://localhost:8080/"
        },
        "outputId": "2861200c-6e6b-459f-d967-ad17e69b42e1"
      },
      "outputs": [
        {
          "output_type": "stream",
          "name": "stderr",
          "text": [
            "The attention mask is not set and cannot be inferred from input because pad token is same as eos token. As a consequence, you may observe unexpected behavior. Please pass your input's `attention_mask` to obtain reliable results.\n"
          ]
        },
        {
          "output_type": "stream",
          "name": "stdout",
          "text": [
            "<|im_start|>user\n",
            "Is 9.11 larger than 9.9?<|im_end|>\n",
            "<|im_start|>assistant\n",
            "Yes, 9.11 is larger than 9.9. To compare two numbers, we can use the greater than symbol (>), which means \"is greater than.\" Since 9.11 is greater than 9.9, we can say that 9.11 is larger than 9.9.<|im_end|>\n"
          ]
        }
      ],
      "source": [
        "text_streamer = TextStreamer(tokenizer)  # Initialize a text streamer for token-by-token output\n",
        "_ = model.generate(\n",
        "   input_ids=inputs,            # The tokenized input prompt\n",
        "   streamer=text_streamer,      # Use the text streamer to display tokens as they're generated\n",
        "   max_new_tokens=128,          # Generate up to 128 new tokens\n",
        "   use_cache=True               # Use KV caching to speed up generation\n",
        ")"
      ]
    },
    {
      "cell_type": "code",
      "execution_count": null,
      "metadata": {
        "id": "ORa-rPvGmT9p"
      },
      "outputs": [],
      "source": [
        "model.push_to_hub_merged(\n",
        "   \"EdMarcavage/MyFirst-Llama-3.1-8B\",  # Destination repo on Hugging Face Hub\n",
        "   tokenizer,                        # The tokenizer to save with the model\n",
        "   save_method=\"merged_16bit\"        # Save the merged model (base + LoRA weights) in 16-bit precision\n",
        ")"
      ]
    },
    {
      "cell_type": "code",
      "execution_count": null,
      "metadata": {
        "id": "fzcUOyksmgWH"
      },
      "outputs": [],
      "source": []
    }
  ],
  "metadata": {
    "accelerator": "GPU",
    "colab": {
      "gpuType": "T4",
      "provenance": []
    },
    "kernelspec": {
      "display_name": "Python 3",
      "name": "python3"
    },
    "language_info": {
      "name": "python"
    },
    "widgets": {
      "application/vnd.jupyter.widget-state+json": {
        "cd770591b219446090652270d3e7f16c": {
          "model_module": "@jupyter-widgets/controls",
          "model_name": "HBoxModel",
          "model_module_version": "1.5.0",
          "state": {
            "_dom_classes": [],
            "_model_module": "@jupyter-widgets/controls",
            "_model_module_version": "1.5.0",
            "_model_name": "HBoxModel",
            "_view_count": null,
            "_view_module": "@jupyter-widgets/controls",
            "_view_module_version": "1.5.0",
            "_view_name": "HBoxView",
            "box_style": "",
            "children": [
              "IPY_MODEL_aba47f795f8b456295439f80068c4806",
              "IPY_MODEL_97d0ebf693554d44ab95a0c77687bace",
              "IPY_MODEL_204ae0902ad04d0d8431773cfa222eaf"
            ],
            "layout": "IPY_MODEL_b54ae7578b534018b68d53df93c1412f"
          }
        },
        "aba47f795f8b456295439f80068c4806": {
          "model_module": "@jupyter-widgets/controls",
          "model_name": "HTMLModel",
          "model_module_version": "1.5.0",
          "state": {
            "_dom_classes": [],
            "_model_module": "@jupyter-widgets/controls",
            "_model_module_version": "1.5.0",
            "_model_name": "HTMLModel",
            "_view_count": null,
            "_view_module": "@jupyter-widgets/controls",
            "_view_module_version": "1.5.0",
            "_view_name": "HTMLView",
            "description": "",
            "description_tooltip": null,
            "layout": "IPY_MODEL_85874d030af044778666b236a9fd3b7d",
            "placeholder": "​",
            "style": "IPY_MODEL_5ddd15a1647c4dd496c471b892d18750",
            "value": "Map: 100%"
          }
        },
        "97d0ebf693554d44ab95a0c77687bace": {
          "model_module": "@jupyter-widgets/controls",
          "model_name": "FloatProgressModel",
          "model_module_version": "1.5.0",
          "state": {
            "_dom_classes": [],
            "_model_module": "@jupyter-widgets/controls",
            "_model_module_version": "1.5.0",
            "_model_name": "FloatProgressModel",
            "_view_count": null,
            "_view_module": "@jupyter-widgets/controls",
            "_view_module_version": "1.5.0",
            "_view_name": "ProgressView",
            "bar_style": "success",
            "description": "",
            "description_tooltip": null,
            "layout": "IPY_MODEL_0f1cb664136d4d94a84cbc045a827247",
            "max": 10000,
            "min": 0,
            "orientation": "horizontal",
            "style": "IPY_MODEL_dd355a34018a4963a133ee1ea638a5da",
            "value": 10000
          }
        },
        "204ae0902ad04d0d8431773cfa222eaf": {
          "model_module": "@jupyter-widgets/controls",
          "model_name": "HTMLModel",
          "model_module_version": "1.5.0",
          "state": {
            "_dom_classes": [],
            "_model_module": "@jupyter-widgets/controls",
            "_model_module_version": "1.5.0",
            "_model_name": "HTMLModel",
            "_view_count": null,
            "_view_module": "@jupyter-widgets/controls",
            "_view_module_version": "1.5.0",
            "_view_name": "HTMLView",
            "description": "",
            "description_tooltip": null,
            "layout": "IPY_MODEL_b80d5c21f7f94905814499a57eec9ff7",
            "placeholder": "​",
            "style": "IPY_MODEL_73dff18a1743491eae4cfcf12458616e",
            "value": " 10000/10000 [00:00&lt;00:00, 12017.44 examples/s]"
          }
        },
        "b54ae7578b534018b68d53df93c1412f": {
          "model_module": "@jupyter-widgets/base",
          "model_name": "LayoutModel",
          "model_module_version": "1.2.0",
          "state": {
            "_model_module": "@jupyter-widgets/base",
            "_model_module_version": "1.2.0",
            "_model_name": "LayoutModel",
            "_view_count": null,
            "_view_module": "@jupyter-widgets/base",
            "_view_module_version": "1.2.0",
            "_view_name": "LayoutView",
            "align_content": null,
            "align_items": null,
            "align_self": null,
            "border": null,
            "bottom": null,
            "display": null,
            "flex": null,
            "flex_flow": null,
            "grid_area": null,
            "grid_auto_columns": null,
            "grid_auto_flow": null,
            "grid_auto_rows": null,
            "grid_column": null,
            "grid_gap": null,
            "grid_row": null,
            "grid_template_areas": null,
            "grid_template_columns": null,
            "grid_template_rows": null,
            "height": null,
            "justify_content": null,
            "justify_items": null,
            "left": null,
            "margin": null,
            "max_height": null,
            "max_width": null,
            "min_height": null,
            "min_width": null,
            "object_fit": null,
            "object_position": null,
            "order": null,
            "overflow": null,
            "overflow_x": null,
            "overflow_y": null,
            "padding": null,
            "right": null,
            "top": null,
            "visibility": null,
            "width": null
          }
        },
        "85874d030af044778666b236a9fd3b7d": {
          "model_module": "@jupyter-widgets/base",
          "model_name": "LayoutModel",
          "model_module_version": "1.2.0",
          "state": {
            "_model_module": "@jupyter-widgets/base",
            "_model_module_version": "1.2.0",
            "_model_name": "LayoutModel",
            "_view_count": null,
            "_view_module": "@jupyter-widgets/base",
            "_view_module_version": "1.2.0",
            "_view_name": "LayoutView",
            "align_content": null,
            "align_items": null,
            "align_self": null,
            "border": null,
            "bottom": null,
            "display": null,
            "flex": null,
            "flex_flow": null,
            "grid_area": null,
            "grid_auto_columns": null,
            "grid_auto_flow": null,
            "grid_auto_rows": null,
            "grid_column": null,
            "grid_gap": null,
            "grid_row": null,
            "grid_template_areas": null,
            "grid_template_columns": null,
            "grid_template_rows": null,
            "height": null,
            "justify_content": null,
            "justify_items": null,
            "left": null,
            "margin": null,
            "max_height": null,
            "max_width": null,
            "min_height": null,
            "min_width": null,
            "object_fit": null,
            "object_position": null,
            "order": null,
            "overflow": null,
            "overflow_x": null,
            "overflow_y": null,
            "padding": null,
            "right": null,
            "top": null,
            "visibility": null,
            "width": null
          }
        },
        "5ddd15a1647c4dd496c471b892d18750": {
          "model_module": "@jupyter-widgets/controls",
          "model_name": "DescriptionStyleModel",
          "model_module_version": "1.5.0",
          "state": {
            "_model_module": "@jupyter-widgets/controls",
            "_model_module_version": "1.5.0",
            "_model_name": "DescriptionStyleModel",
            "_view_count": null,
            "_view_module": "@jupyter-widgets/base",
            "_view_module_version": "1.2.0",
            "_view_name": "StyleView",
            "description_width": ""
          }
        },
        "0f1cb664136d4d94a84cbc045a827247": {
          "model_module": "@jupyter-widgets/base",
          "model_name": "LayoutModel",
          "model_module_version": "1.2.0",
          "state": {
            "_model_module": "@jupyter-widgets/base",
            "_model_module_version": "1.2.0",
            "_model_name": "LayoutModel",
            "_view_count": null,
            "_view_module": "@jupyter-widgets/base",
            "_view_module_version": "1.2.0",
            "_view_name": "LayoutView",
            "align_content": null,
            "align_items": null,
            "align_self": null,
            "border": null,
            "bottom": null,
            "display": null,
            "flex": null,
            "flex_flow": null,
            "grid_area": null,
            "grid_auto_columns": null,
            "grid_auto_flow": null,
            "grid_auto_rows": null,
            "grid_column": null,
            "grid_gap": null,
            "grid_row": null,
            "grid_template_areas": null,
            "grid_template_columns": null,
            "grid_template_rows": null,
            "height": null,
            "justify_content": null,
            "justify_items": null,
            "left": null,
            "margin": null,
            "max_height": null,
            "max_width": null,
            "min_height": null,
            "min_width": null,
            "object_fit": null,
            "object_position": null,
            "order": null,
            "overflow": null,
            "overflow_x": null,
            "overflow_y": null,
            "padding": null,
            "right": null,
            "top": null,
            "visibility": null,
            "width": null
          }
        },
        "dd355a34018a4963a133ee1ea638a5da": {
          "model_module": "@jupyter-widgets/controls",
          "model_name": "ProgressStyleModel",
          "model_module_version": "1.5.0",
          "state": {
            "_model_module": "@jupyter-widgets/controls",
            "_model_module_version": "1.5.0",
            "_model_name": "ProgressStyleModel",
            "_view_count": null,
            "_view_module": "@jupyter-widgets/base",
            "_view_module_version": "1.2.0",
            "_view_name": "StyleView",
            "bar_color": null,
            "description_width": ""
          }
        },
        "b80d5c21f7f94905814499a57eec9ff7": {
          "model_module": "@jupyter-widgets/base",
          "model_name": "LayoutModel",
          "model_module_version": "1.2.0",
          "state": {
            "_model_module": "@jupyter-widgets/base",
            "_model_module_version": "1.2.0",
            "_model_name": "LayoutModel",
            "_view_count": null,
            "_view_module": "@jupyter-widgets/base",
            "_view_module_version": "1.2.0",
            "_view_name": "LayoutView",
            "align_content": null,
            "align_items": null,
            "align_self": null,
            "border": null,
            "bottom": null,
            "display": null,
            "flex": null,
            "flex_flow": null,
            "grid_area": null,
            "grid_auto_columns": null,
            "grid_auto_flow": null,
            "grid_auto_rows": null,
            "grid_column": null,
            "grid_gap": null,
            "grid_row": null,
            "grid_template_areas": null,
            "grid_template_columns": null,
            "grid_template_rows": null,
            "height": null,
            "justify_content": null,
            "justify_items": null,
            "left": null,
            "margin": null,
            "max_height": null,
            "max_width": null,
            "min_height": null,
            "min_width": null,
            "object_fit": null,
            "object_position": null,
            "order": null,
            "overflow": null,
            "overflow_x": null,
            "overflow_y": null,
            "padding": null,
            "right": null,
            "top": null,
            "visibility": null,
            "width": null
          }
        },
        "73dff18a1743491eae4cfcf12458616e": {
          "model_module": "@jupyter-widgets/controls",
          "model_name": "DescriptionStyleModel",
          "model_module_version": "1.5.0",
          "state": {
            "_model_module": "@jupyter-widgets/controls",
            "_model_module_version": "1.5.0",
            "_model_name": "DescriptionStyleModel",
            "_view_count": null,
            "_view_module": "@jupyter-widgets/base",
            "_view_module_version": "1.2.0",
            "_view_name": "StyleView",
            "description_width": ""
          }
        },
        "b72724f7f236496795ed9ddc2492bb48": {
          "model_module": "@jupyter-widgets/controls",
          "model_name": "HBoxModel",
          "model_module_version": "1.5.0",
          "state": {
            "_dom_classes": [],
            "_model_module": "@jupyter-widgets/controls",
            "_model_module_version": "1.5.0",
            "_model_name": "HBoxModel",
            "_view_count": null,
            "_view_module": "@jupyter-widgets/controls",
            "_view_module_version": "1.5.0",
            "_view_name": "HBoxView",
            "box_style": "",
            "children": [
              "IPY_MODEL_7dcb3e94b7c6408d982903007ab41559",
              "IPY_MODEL_7f1c521d96e74beda10cbe2be570d73e",
              "IPY_MODEL_4d4d7f42c5a347b79a347b8829712f5b"
            ],
            "layout": "IPY_MODEL_52fe8f888e7a49899b787d6adfe2c5e4"
          }
        },
        "7dcb3e94b7c6408d982903007ab41559": {
          "model_module": "@jupyter-widgets/controls",
          "model_name": "HTMLModel",
          "model_module_version": "1.5.0",
          "state": {
            "_dom_classes": [],
            "_model_module": "@jupyter-widgets/controls",
            "_model_module_version": "1.5.0",
            "_model_name": "HTMLModel",
            "_view_count": null,
            "_view_module": "@jupyter-widgets/controls",
            "_view_module_version": "1.5.0",
            "_view_name": "HTMLView",
            "description": "",
            "description_tooltip": null,
            "layout": "IPY_MODEL_a888405dc255493fbb65a4d67eea48b2",
            "placeholder": "​",
            "style": "IPY_MODEL_93e79fbaaa7746b69f9e734c586d1290",
            "value": "Unsloth: Tokenizing [&quot;text&quot;] (num_proc=2): 100%"
          }
        },
        "7f1c521d96e74beda10cbe2be570d73e": {
          "model_module": "@jupyter-widgets/controls",
          "model_name": "FloatProgressModel",
          "model_module_version": "1.5.0",
          "state": {
            "_dom_classes": [],
            "_model_module": "@jupyter-widgets/controls",
            "_model_module_version": "1.5.0",
            "_model_name": "FloatProgressModel",
            "_view_count": null,
            "_view_module": "@jupyter-widgets/controls",
            "_view_module_version": "1.5.0",
            "_view_name": "ProgressView",
            "bar_style": "success",
            "description": "",
            "description_tooltip": null,
            "layout": "IPY_MODEL_55f64de258a04358a2d9eb39210283a7",
            "max": 10000,
            "min": 0,
            "orientation": "horizontal",
            "style": "IPY_MODEL_a1a61aad1cb048ae8e037e299e02c301",
            "value": 10000
          }
        },
        "4d4d7f42c5a347b79a347b8829712f5b": {
          "model_module": "@jupyter-widgets/controls",
          "model_name": "HTMLModel",
          "model_module_version": "1.5.0",
          "state": {
            "_dom_classes": [],
            "_model_module": "@jupyter-widgets/controls",
            "_model_module_version": "1.5.0",
            "_model_name": "HTMLModel",
            "_view_count": null,
            "_view_module": "@jupyter-widgets/controls",
            "_view_module_version": "1.5.0",
            "_view_name": "HTMLView",
            "description": "",
            "description_tooltip": null,
            "layout": "IPY_MODEL_5d5fcf8c37f24d629ca663c0e7e81b00",
            "placeholder": "​",
            "style": "IPY_MODEL_21293f96f95341968c2badbf3bf22bee",
            "value": " 10000/10000 [00:24&lt;00:00, 648.46 examples/s]"
          }
        },
        "52fe8f888e7a49899b787d6adfe2c5e4": {
          "model_module": "@jupyter-widgets/base",
          "model_name": "LayoutModel",
          "model_module_version": "1.2.0",
          "state": {
            "_model_module": "@jupyter-widgets/base",
            "_model_module_version": "1.2.0",
            "_model_name": "LayoutModel",
            "_view_count": null,
            "_view_module": "@jupyter-widgets/base",
            "_view_module_version": "1.2.0",
            "_view_name": "LayoutView",
            "align_content": null,
            "align_items": null,
            "align_self": null,
            "border": null,
            "bottom": null,
            "display": null,
            "flex": null,
            "flex_flow": null,
            "grid_area": null,
            "grid_auto_columns": null,
            "grid_auto_flow": null,
            "grid_auto_rows": null,
            "grid_column": null,
            "grid_gap": null,
            "grid_row": null,
            "grid_template_areas": null,
            "grid_template_columns": null,
            "grid_template_rows": null,
            "height": null,
            "justify_content": null,
            "justify_items": null,
            "left": null,
            "margin": null,
            "max_height": null,
            "max_width": null,
            "min_height": null,
            "min_width": null,
            "object_fit": null,
            "object_position": null,
            "order": null,
            "overflow": null,
            "overflow_x": null,
            "overflow_y": null,
            "padding": null,
            "right": null,
            "top": null,
            "visibility": null,
            "width": null
          }
        },
        "a888405dc255493fbb65a4d67eea48b2": {
          "model_module": "@jupyter-widgets/base",
          "model_name": "LayoutModel",
          "model_module_version": "1.2.0",
          "state": {
            "_model_module": "@jupyter-widgets/base",
            "_model_module_version": "1.2.0",
            "_model_name": "LayoutModel",
            "_view_count": null,
            "_view_module": "@jupyter-widgets/base",
            "_view_module_version": "1.2.0",
            "_view_name": "LayoutView",
            "align_content": null,
            "align_items": null,
            "align_self": null,
            "border": null,
            "bottom": null,
            "display": null,
            "flex": null,
            "flex_flow": null,
            "grid_area": null,
            "grid_auto_columns": null,
            "grid_auto_flow": null,
            "grid_auto_rows": null,
            "grid_column": null,
            "grid_gap": null,
            "grid_row": null,
            "grid_template_areas": null,
            "grid_template_columns": null,
            "grid_template_rows": null,
            "height": null,
            "justify_content": null,
            "justify_items": null,
            "left": null,
            "margin": null,
            "max_height": null,
            "max_width": null,
            "min_height": null,
            "min_width": null,
            "object_fit": null,
            "object_position": null,
            "order": null,
            "overflow": null,
            "overflow_x": null,
            "overflow_y": null,
            "padding": null,
            "right": null,
            "top": null,
            "visibility": null,
            "width": null
          }
        },
        "93e79fbaaa7746b69f9e734c586d1290": {
          "model_module": "@jupyter-widgets/controls",
          "model_name": "DescriptionStyleModel",
          "model_module_version": "1.5.0",
          "state": {
            "_model_module": "@jupyter-widgets/controls",
            "_model_module_version": "1.5.0",
            "_model_name": "DescriptionStyleModel",
            "_view_count": null,
            "_view_module": "@jupyter-widgets/base",
            "_view_module_version": "1.2.0",
            "_view_name": "StyleView",
            "description_width": ""
          }
        },
        "55f64de258a04358a2d9eb39210283a7": {
          "model_module": "@jupyter-widgets/base",
          "model_name": "LayoutModel",
          "model_module_version": "1.2.0",
          "state": {
            "_model_module": "@jupyter-widgets/base",
            "_model_module_version": "1.2.0",
            "_model_name": "LayoutModel",
            "_view_count": null,
            "_view_module": "@jupyter-widgets/base",
            "_view_module_version": "1.2.0",
            "_view_name": "LayoutView",
            "align_content": null,
            "align_items": null,
            "align_self": null,
            "border": null,
            "bottom": null,
            "display": null,
            "flex": null,
            "flex_flow": null,
            "grid_area": null,
            "grid_auto_columns": null,
            "grid_auto_flow": null,
            "grid_auto_rows": null,
            "grid_column": null,
            "grid_gap": null,
            "grid_row": null,
            "grid_template_areas": null,
            "grid_template_columns": null,
            "grid_template_rows": null,
            "height": null,
            "justify_content": null,
            "justify_items": null,
            "left": null,
            "margin": null,
            "max_height": null,
            "max_width": null,
            "min_height": null,
            "min_width": null,
            "object_fit": null,
            "object_position": null,
            "order": null,
            "overflow": null,
            "overflow_x": null,
            "overflow_y": null,
            "padding": null,
            "right": null,
            "top": null,
            "visibility": null,
            "width": null
          }
        },
        "a1a61aad1cb048ae8e037e299e02c301": {
          "model_module": "@jupyter-widgets/controls",
          "model_name": "ProgressStyleModel",
          "model_module_version": "1.5.0",
          "state": {
            "_model_module": "@jupyter-widgets/controls",
            "_model_module_version": "1.5.0",
            "_model_name": "ProgressStyleModel",
            "_view_count": null,
            "_view_module": "@jupyter-widgets/base",
            "_view_module_version": "1.2.0",
            "_view_name": "StyleView",
            "bar_color": null,
            "description_width": ""
          }
        },
        "5d5fcf8c37f24d629ca663c0e7e81b00": {
          "model_module": "@jupyter-widgets/base",
          "model_name": "LayoutModel",
          "model_module_version": "1.2.0",
          "state": {
            "_model_module": "@jupyter-widgets/base",
            "_model_module_version": "1.2.0",
            "_model_name": "LayoutModel",
            "_view_count": null,
            "_view_module": "@jupyter-widgets/base",
            "_view_module_version": "1.2.0",
            "_view_name": "LayoutView",
            "align_content": null,
            "align_items": null,
            "align_self": null,
            "border": null,
            "bottom": null,
            "display": null,
            "flex": null,
            "flex_flow": null,
            "grid_area": null,
            "grid_auto_columns": null,
            "grid_auto_flow": null,
            "grid_auto_rows": null,
            "grid_column": null,
            "grid_gap": null,
            "grid_row": null,
            "grid_template_areas": null,
            "grid_template_columns": null,
            "grid_template_rows": null,
            "height": null,
            "justify_content": null,
            "justify_items": null,
            "left": null,
            "margin": null,
            "max_height": null,
            "max_width": null,
            "min_height": null,
            "min_width": null,
            "object_fit": null,
            "object_position": null,
            "order": null,
            "overflow": null,
            "overflow_x": null,
            "overflow_y": null,
            "padding": null,
            "right": null,
            "top": null,
            "visibility": null,
            "width": null
          }
        },
        "21293f96f95341968c2badbf3bf22bee": {
          "model_module": "@jupyter-widgets/controls",
          "model_name": "DescriptionStyleModel",
          "model_module_version": "1.5.0",
          "state": {
            "_model_module": "@jupyter-widgets/controls",
            "_model_module_version": "1.5.0",
            "_model_name": "DescriptionStyleModel",
            "_view_count": null,
            "_view_module": "@jupyter-widgets/base",
            "_view_module_version": "1.2.0",
            "_view_name": "StyleView",
            "description_width": ""
          }
        }
      }
    }
  },
  "nbformat": 4,
  "nbformat_minor": 0
}